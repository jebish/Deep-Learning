{
 "cells": [
  {
   "cell_type": "code",
   "execution_count": 1,
   "metadata": {},
   "outputs": [],
   "source": [
    "import matplotlib.pyplot as plt\n",
    "import scipy.io\n",
    "import numpy as np\n",
    "import pandas as pd\n",
    "import PIL\n",
    "import tensorflow as tf\n",
    "from yad2k.models.keras_yolo import yolo_head\n",
    "from tensorflow.python.framework.ops import EagerTensor\n",
    "\n",
    "from yolo_utils import draw_boxes,get_colors_for_classes, scale_boxes, read_classes, read_anchors, preprocess_image"
   ]
  },
  {
   "cell_type": "code",
   "execution_count": 2,
   "metadata": {},
   "outputs": [],
   "source": [
    "def yolo_filter_boxes(boxes,box_confidence,box_class_probs,threshold=0.6):\n",
    "    '''\n",
    "    boxes= 19,19,5,4 - shape of box (bx,by,bh,bw)\n",
    "    box_confidence = 19,19,5,1 - pc of box of each anchor\n",
    "    box_class_probs = 19,19,5,80 - c0 to c80, 80 dimensional probabi;ity that the grid contains a certain class of object in that anchor box\n",
    "\n",
    "    Returns -\n",
    "    scores - tensor of shape (None,), containing class probability score for selected boxes\n",
    "    boxes - tensor of shape (None,4), containing (b_x,b_y,b_h,b_w) coordinates of selected boxes\n",
    "    classes - tensor of shape (None,) containing index of the class detected by tthe selected box\n",
    "    '''\n",
    "\n",
    "    # x=10\n",
    "    # y=tf.constant(100)\n",
    "\n",
    "    #compute box_scores\n",
    "    box_scores=box_confidence*box_class_probs\n",
    "\n",
    "    #Find the box_classes using the max box_scores, keep track of the coreresponsidng scores\n",
    "    box_classes=tf.math.argmax(box_scores,axis=-1)\n",
    "    box_class_scores=tf.math.reduce_max(box_scores,axis=-1)\n",
    "\n",
    "    #Create a filtering mask based on \"box_class_scores\" by threshold, True for boxes to keep\n",
    "    filtering_mask = (box_class_scores>=threshold)\n",
    "\n",
    "    #Apply the mask\n",
    "    scores=tf.boolean_mask(box_class_scores,filtering_mask)\n",
    "    boxes=tf.boolean_mask(boxes,filtering_mask)\n",
    "    classes=tf.boolean_mask(box_classes,filtering_mask)\n",
    "\n",
    "    return scores, boxes, classes"
   ]
  },
  {
   "cell_type": "code",
   "execution_count": 10,
   "metadata": {},
   "outputs": [
    {
     "name": "stdout",
     "output_type": "stream",
     "text": [
      "scores[2] = 9.270486\n",
      "boxes[2] = [ 4.6399336  3.2303846  4.431282  -2.202031 ]\n",
      "classes[2] = 8\n",
      "scores.shape = (1789,)\n",
      "boxes.shape = (1789, 4)\n",
      "classes.shape = (1789,)\n"
     ]
    }
   ],
   "source": [
    "tf.random.set_seed(10)\n",
    "box_confidence = tf.random.normal([19, 19, 5, 1], mean=1, stddev=4, seed = 1)\n",
    "boxes = tf.random.normal([19, 19, 5, 4], mean=1, stddev=4, seed = 1)\n",
    "box_class_probs = tf.random.normal([19, 19, 5, 80], mean=1, stddev=4, seed = 1)\n",
    "scores, boxes, classes = yolo_filter_boxes(boxes, box_confidence, box_class_probs, threshold = 0.5)\n",
    "print(\"scores[2] = \" + str(scores[2].numpy()))\n",
    "print(\"boxes[2] = \" + str(boxes[2].numpy()))\n",
    "print(\"classes[2] = \" + str(classes[2].numpy()))\n",
    "print(\"scores.shape = \" + str(scores.shape))\n",
    "print(\"boxes.shape = \" + str(boxes.shape))\n",
    "print(\"classes.shape = \" + str(classes.shape))\n",
    "\n",
    "assert type(scores) == EagerTensor, \"Use tensorflow functions\"\n",
    "assert type(boxes) == EagerTensor, \"Use tensorflow functions\"\n",
    "assert type(classes) == EagerTensor, \"Use tensorflow functions\"\n",
    "\n",
    "assert scores.shape == (1789,), \"Wrong shape in scores\"\n",
    "assert boxes.shape == (1789, 4), \"Wrong shape in boxes\"\n",
    "assert classes.shape == (1789,), \"Wrong shape in classes\"\n",
    "\n",
    "assert np.isclose(scores[2].numpy(), 9.270486), \"Values are wrong on scores\"\n",
    "assert np.allclose(boxes[2].numpy(), [4.6399336, 3.2303846, 4.431282, -2.202031]), \"Values are wrong on boxes\"\n",
    "assert classes[2].numpy() == 8, \"Values are wrong on classes\"\n"
   ]
  },
  {
   "cell_type": "markdown",
   "metadata": {},
   "source": [
    "Even after this, we would require non max suppression, finding IOU first"
   ]
  },
  {
   "cell_type": "code",
   "execution_count": 3,
   "metadata": {},
   "outputs": [],
   "source": [
    "def iou (box1,box2):\n",
    "    '''\n",
    "    Implemet the intersection over union between box1 and box2\n",
    "\n",
    "    Arguments:\n",
    "    bpx1 -- forst box, list object with cordinates (box1_x1,box1_y1,box1_x2,box1_y2)\n",
    "    box2-- second box, list object with cordinates (box2_x1,box2_y1,box2_x2,box2_y2)\n",
    "    '''\n",
    "    (x1_1,y1_1,x1_2,y1_2)=box1\n",
    "    (x2_1,y2_1,x2_2,y2_2)=box2\n",
    "\n",
    "    #calculate xi_1,yi_1,xi_2,yi_2\n",
    "    xi_1=max(x1_1,x2_1)\n",
    "    yi_1=max(y1_1,y2_1)\n",
    "    xi_2=min(x1_2,x2_2)\n",
    "    yi_2=min(y1_2,y2_2)\n",
    "\n",
    "    inter_width=max(0,xi_2-xi_1)\n",
    "    inter_height=max(0,yi_2-yi_1)\n",
    "    inter_area=inter_height*inter_width\n",
    "\n",
    "    #calculate union arera\n",
    "    area_1=(x1_2-x1_1)*(y1_2-y1_1)\n",
    "    area_2=(x2_2-x2_1)*(y2_2-y2_1)\n",
    "    union_area=area_1+area_2-inter_area\n",
    "\n",
    "    #compute IOU\n",
    "    iou=inter_area/union_area\n",
    "\n",
    "    return iou"
   ]
  },
  {
   "cell_type": "code",
   "execution_count": 4,
   "metadata": {},
   "outputs": [
    {
     "name": "stdout",
     "output_type": "stream",
     "text": [
      "iou for intersecting boxes = 0.14285714285714285\n",
      "iou for non-intersecting boxes = 0.0\n",
      "iou for boxes that only touch at vertices = 0.0\n",
      "iou for boxes that only touch at edges = 0.0\n",
      "\u001b[92m All tests passed!\n"
     ]
    }
   ],
   "source": [
    "## Test case 1: boxes intersect\n",
    "box1 = (2, 1, 4, 3)\n",
    "box2 = (1, 2, 3, 4)\n",
    "\n",
    "print(\"iou for intersecting boxes = \" + str(iou(box1, box2)))\n",
    "assert iou(box1, box2) < 1, \"The intersection area must be always smaller or equal than the union area.\"\n",
    "assert np.isclose(iou(box1, box2), 0.14285714), \"Wrong value. Check your implementation. Problem with intersecting boxes\"\n",
    "\n",
    "## Test case 2: boxes do not intersect\n",
    "box1 = (1,2,3,4)\n",
    "box2 = (5,6,7,8)\n",
    "print(\"iou for non-intersecting boxes = \" + str(iou(box1,box2)))\n",
    "assert iou(box1, box2) == 0, \"Intersection must be 0\"\n",
    "\n",
    "## Test case 3: boxes intersect at vertices only\n",
    "box1 = (1,1,2,2)\n",
    "box2 = (2,2,3,3)\n",
    "print(\"iou for boxes that only touch at vertices = \" + str(iou(box1,box2)))\n",
    "assert iou(box1, box2) == 0, \"Intersection at vertices must be 0\"\n",
    "\n",
    "## Test case 4: boxes intersect at edge only\n",
    "box1 = (1,1,3,3)\n",
    "box2 = (2,3,3,4)\n",
    "print(\"iou for boxes that only touch at edges = \" + str(iou(box1,box2)))\n",
    "assert iou(box1, box2) == 0, \"Intersection at edges must be 0\"\n",
    "\n",
    "print(\"\\033[92m All tests passed!\")"
   ]
  },
  {
   "cell_type": "markdown",
   "metadata": {},
   "source": [
    "Now ready to implement non-max suppression"
   ]
  },
  {
   "cell_type": "code",
   "execution_count": 5,
   "metadata": {},
   "outputs": [],
   "source": [
    "def yolo_non_max_suppression(scores,boxes,classes,max_boxes=10,iou_threshold=0.5):\n",
    "    '''\n",
    "    scores- tensor of shaoe (None,), output of yolo-filter_boxes()\n",
    "    boxes - tensor of shape (none,4), output of yolo_filter_boxes() that have been scaled to the image\n",
    "    classes - tensor of shape (None,), output of yolo_filter_boxes()\n",
    "    max_boxes=maximum number of predicted boxes you'd like\n",
    "    iou_threshold -- real value\n",
    "\n",
    "    Returns:\n",
    "    scores - tensor of shape (,None),predicted score for each box\n",
    "    boxes -- tensor of shape (4,None), predictedd box cordinates\n",
    "    classes - tensor of shape (,None), predicted class for each box\n",
    "\n",
    "    the output will have scores, boxes and classes transposed for convenience\n",
    "    '''\n",
    "\n",
    "    max_boxes_tensor = tf.Variable(max_boxes,dtype='int32')\n",
    "\n",
    "    #use tf.image.non_max_suppression() to get the list of indices corresponding to boxees you keep\n",
    "\n",
    "    nms_indices=tf.image.non_max_suppression(boxes,scores,max_boxes_tensor,iou_threshold)\n",
    "\n",
    "    #use tf.gather() to select only nms_indices\n",
    "    scores=tf.gather(scores,nms_indices)\n",
    "    boxes=tf.gather(boxes,nms_indices)\n",
    "    classes=tf.gather(classes,nms_indices)\n",
    "\n",
    "    return scores,boxes,classes"
   ]
  },
  {
   "cell_type": "code",
   "execution_count": 14,
   "metadata": {},
   "outputs": [
    {
     "name": "stdout",
     "output_type": "stream",
     "text": [
      "scores[2] = 8.147684\n",
      "boxes[2] = [ 6.0797963   3.743308    1.3914018  -0.34089637]\n",
      "classes[2] = 1.7079165\n",
      "scores.shape = (10,)\n",
      "boxes.shape = (10, 4)\n",
      "classes.shape = (10,)\n",
      "\u001b[92m All tests passed!\n"
     ]
    }
   ],
   "source": [
    "tf.random.set_seed(10)\n",
    "scores = tf.random.normal([54,], mean=1, stddev=4, seed = 1)\n",
    "boxes = tf.random.normal([54, 4], mean=1, stddev=4, seed = 1)\n",
    "classes = tf.random.normal([54,], mean=1, stddev=4, seed = 1)\n",
    "scores, boxes, classes = yolo_non_max_suppression(scores, boxes, classes)\n",
    "\n",
    "assert type(scores) == EagerTensor, \"Use tensoflow functions\"\n",
    "print(\"scores[2] = \" + str(scores[2].numpy()))\n",
    "print(\"boxes[2] = \" + str(boxes[2].numpy()))\n",
    "print(\"classes[2] = \" + str(classes[2].numpy()))\n",
    "print(\"scores.shape = \" + str(scores.numpy().shape))\n",
    "print(\"boxes.shape = \" + str(boxes.numpy().shape))\n",
    "print(\"classes.shape = \" + str(classes.numpy().shape))\n",
    "\n",
    "assert type(scores) == EagerTensor, \"Use tensoflow functions\"\n",
    "assert type(boxes) == EagerTensor, \"Use tensoflow functions\"\n",
    "assert type(classes) == EagerTensor, \"Use tensoflow functions\"\n",
    "\n",
    "assert scores.shape == (10,), \"Wrong shape\"\n",
    "assert boxes.shape == (10, 4), \"Wrong shape\"\n",
    "assert classes.shape == (10,), \"Wrong shape\"\n",
    "\n",
    "assert np.isclose(scores[2].numpy(), 8.147684), \"Wrong value on scores\"\n",
    "assert np.allclose(boxes[2].numpy(), [ 6.0797963, 3.743308, 1.3914018, -0.34089637]), \"Wrong value on boxes\"\n",
    "assert np.isclose(classes[2].numpy(), 1.7079165), \"Wrong value on classes\"\n",
    "\n",
    "print(\"\\033[92m All tests passed!\")"
   ]
  },
  {
   "cell_type": "code",
   "execution_count": 6,
   "metadata": {},
   "outputs": [],
   "source": [
    "def yolo_boxes_to_corners (box_xy,box_wh):\n",
    "    box_mins=box_xy-(box_wh/2.)\n",
    "    box_maxes=box_xy+(box_wh/2.)\n",
    "\n",
    "    return tf.keras.backend.concatenate([\n",
    "        box_mins[...,1:2],# y_min\n",
    "        box_mins[...,0:1], #x_min\n",
    "        box_maxes[...,1:2],#y_max\n",
    "        box_maxes[...,0:1] #x_max\n",
    "    ])"
   ]
  },
  {
   "cell_type": "code",
   "execution_count": 9,
   "metadata": {},
   "outputs": [],
   "source": [
    "def yolo_eval(yolo_outputs,image_shape=(720.0,1280.0),max_boxes=10,score_threshold=0.6,iou_threshold=0.5):\n",
    "\n",
    "    box_xy,box_wh,box_confidence,box_class_probs=yolo_outputs\n",
    "    # print(box_wh)\n",
    "    \n",
    "    boxes=yolo_boxes_to_corners(box_xy,box_wh)\n",
    "    scores,boxes,classes=yolo_filter_boxes(boxes,box_confidence,box_class_probs,score_threshold)\n",
    "    print(boxes.dtype)\n",
    "    #scale boxes back to original image shape (720,1280 here)\n",
    "    boxes = scale_boxes(boxes, image_shape)\n",
    "\n",
    "    #Non-max\n",
    "    scores,boxes,classes=yolo_non_max_suppression(scores,boxes,classes,max_boxes,iou_threshold)\n",
    "\n",
    "    return scores,boxes,classes"
   ]
  },
  {
   "cell_type": "code",
   "execution_count": 10,
   "metadata": {},
   "outputs": [
    {
     "name": "stdout",
     "output_type": "stream",
     "text": [
      "<dtype: 'float32'>\n",
      "tf.Tensor([[ 720. 1280.  720. 1280.]], shape=(1, 4), dtype=float32)\n",
      "scores[2] = 171.60194\n",
      "boxes[2] = [-1240.3483 -3212.5881  -645.78    2024.3052]\n",
      "classes[2] = 16\n",
      "scores.shape = (10,)\n",
      "boxes.shape = (10, 4)\n",
      "classes.shape = (10,)\n",
      "\u001b[92m All tests passed!\n"
     ]
    }
   ],
   "source": [
    "tf.random.set_seed(10)\n",
    "yolo_outputs = (tf.random.normal([19, 19, 5, 2], mean=1, stddev=4, seed = 1),\n",
    "                tf.random.normal([19, 19, 5, 2], mean=1, stddev=4, seed = 1),\n",
    "                tf.random.normal([19, 19, 5, 1], mean=1, stddev=4, seed = 1),\n",
    "                tf.random.normal([19, 19, 5, 80], mean=1, stddev=4, seed = 1))\n",
    "scores, boxes, classes = yolo_eval(yolo_outputs)\n",
    "print(\"scores[2] = \" + str(scores[2].numpy()))\n",
    "print(\"boxes[2] = \" + str(boxes[2].numpy()))\n",
    "print(\"classes[2] = \" + str(classes[2].numpy()))\n",
    "print(\"scores.shape = \" + str(scores.numpy().shape))\n",
    "print(\"boxes.shape = \" + str(boxes.numpy().shape))\n",
    "print(\"classes.shape = \" + str(classes.numpy().shape))\n",
    "\n",
    "assert type(scores) == EagerTensor, \"Use tensoflow functions\"\n",
    "assert type(boxes) == EagerTensor, \"Use tensoflow functions\"\n",
    "assert type(classes) == EagerTensor, \"Use tensoflow functions\"\n",
    "\n",
    "assert scores.shape == (10,), \"Wrong shape\"\n",
    "assert boxes.shape == (10, 4), \"Wrong shape\"\n",
    "assert classes.shape == (10,), \"Wrong shape\"\n",
    "    \n",
    "assert np.isclose(scores[2].numpy(), 171.60194), \"Wrong value on scores\"\n",
    "assert np.allclose(boxes[2].numpy(), [-1240.3483, -3212.5881, -645.78, 2024.3052]), \"Wrong value on boxes\"\n",
    "assert np.isclose(classes[2].numpy(), 16), \"Wrong value on classes\"\n",
    "    \n",
    "print(\"\\033[92m All tests passed!\")"
   ]
  },
  {
   "cell_type": "code",
   "execution_count": null,
   "metadata": {},
   "outputs": [],
   "source": []
  }
 ],
 "metadata": {
  "kernelspec": {
   "display_name": "Python 3",
   "language": "python",
   "name": "python3"
  },
  "language_info": {
   "codemirror_mode": {
    "name": "ipython",
    "version": 3
   },
   "file_extension": ".py",
   "mimetype": "text/x-python",
   "name": "python",
   "nbconvert_exporter": "python",
   "pygments_lexer": "ipython3",
   "version": "3.11.1"
  },
  "orig_nbformat": 4
 },
 "nbformat": 4,
 "nbformat_minor": 2
}
