{
 "cells": [
  {
   "cell_type": "markdown",
   "metadata": {},
   "source": [
    "Practising Tensorflow dataset api and gradient tape"
   ]
  },
  {
   "cell_type": "code",
   "execution_count": 136,
   "metadata": {},
   "outputs": [],
   "source": [
    "import numpy as np\n",
    "import h5py as hpy\n",
    "import tensorflow as tf\n",
    "import sklearn.metrics as mtc\n",
    "from matplotlib import pyplot as plt\n"
   ]
  },
  {
   "cell_type": "code",
   "execution_count": 10,
   "metadata": {},
   "outputs": [],
   "source": [
    "train_File=hpy.File('train_signs.h5','r')\n",
    "test_File=hpy.File('test_signs.h5','r')\n",
    "\n",
    "x_train=tf.data.Dataset.from_tensor_slices(train_File['train_set_x'])\n",
    "x_test=tf.data.Dataset.from_tensor_slices(test_File['test_set_x'])\n",
    "y_train=tf.data.Dataset.from_tensor_slices(train_File['train_set_y'])\n",
    "y_test=tf.data.Dataset.from_tensor_slices(test_File['test_set_y'])"
   ]
  },
  {
   "cell_type": "code",
   "execution_count": 50,
   "metadata": {
    "tags": [
     "Normalizer"
    ]
   },
   "outputs": [],
   "source": [
    "#Normalizing data\n",
    "\n",
    "def normalizer(image):\n",
    "    image=tf.cast(image,tf.float32)/255\n",
    "    image=tf.reshape(image,[-1])\n",
    "    return image\n",
    "\n",
    "new_train=x_train.map(normalizer)\n",
    "new_test=x_test.map(normalizer)"
   ]
  },
  {
   "cell_type": "code",
   "execution_count": 31,
   "metadata": {},
   "outputs": [],
   "source": [
    "#Reshape output labels with one-hot encoding\n",
    "\n",
    "def one_hot_matrix(labels,depth=6):\n",
    "    labels=tf.reshape(tf.one_hot(labels,depth=depth,axis=0),[-1])\n",
    "    return labels\n",
    "\n",
    "new_train_y=y_train.map(one_hot_matrix)\n",
    "new_test_y=y_test.map(lambda y_test:one_hot_matrix(labels=y_test,depth=6))\n",
    "\n"
   ]
  },
  {
   "cell_type": "code",
   "execution_count": 86,
   "metadata": {
    "tags": [
     "parameters"
    ]
   },
   "outputs": [],
   "source": [
    "#initialize weight and trainable parameters\n",
    "\n",
    "def initialize_parameters(layer_dims):\n",
    "    L=len(layer_dims)\n",
    "    parameters={}\n",
    "    trainable_parameters=[]\n",
    "    initializer=tf.initializers.GlorotNormal(seed=1)\n",
    "    for l in range(1,L):\n",
    "        parameters['w'+str(l)]=tf.Variable(initializer(shape=(layer_dims[l],layer_dims[l-1])),name='w'+str(l))\n",
    "        parameters['b'+str(l)]=tf.Variable(initializer(shape=(layer_dims[l],1)),name='b'+str(l))\n",
    "        trainable_parameters.append(parameters['w'+str(l)])\n",
    "        trainable_parameters.append(parameters['b'+str(l)])\n",
    "    return parameters,trainable_parameters"
   ]
  },
  {
   "cell_type": "code",
   "execution_count": 168,
   "metadata": {},
   "outputs": [],
   "source": [
    "#forward propagation\n",
    "\n",
    "def forward_propagation(X,parameters):\n",
    "    L=len(parameters)//2\n",
    "    a_prev=tf.transpose(X)\n",
    "    for l in range(1,L):\n",
    "        Z=tf.math.add(tf.linalg.matmul(parameters['w'+str(l)],a_prev),parameters['b'+str(l)])\n",
    "        # a_0=tf.keras.activations.relu(Z[:Z.shape[0]//2])\n",
    "        # a_1=tf.keras.activations.sigmoid(Z[Z.shape[0]//2:])\n",
    "        a_prev=tf.keras.activations.relu(Z)\n",
    "    ZL=tf.math.add(tf.linalg.matmul(parameters['w'+str(L)],a_prev),parameters['b'+str(L)])\n",
    "    return ZL\n"
   ]
  },
  {
   "cell_type": "code",
   "execution_count": 48,
   "metadata": {},
   "outputs": [],
   "source": [
    "#compute cost function\n",
    "\n",
    "def compute_cost(y_pred,y_true):\n",
    "    cost=tf.reduce_mean(tf.keras.losses.categorical_crossentropy(y_true=y_true,y_pred=tf.transpose(y_pred),from_logits=True))\n",
    "    return cost"
   ]
  },
  {
   "cell_type": "code",
   "execution_count": 169,
   "metadata": {},
   "outputs": [],
   "source": [
    "#model\n",
    "\n",
    "def model(X_train,Y_train,X_test,Y_test,layer_dims,num_of_epoch=100,batch_size=32,learning_rate=0.0001):\n",
    "\n",
    "    parameters,trainable_parameters=initialize_parameters(layer_dims)\n",
    "    tfs=list(parameters.values())\n",
    "    train_dataset=tf.data.Dataset.zip((X_train,Y_train))\n",
    "    test_dataset=tf.data.Dataset.zip((X_test,Y_test))\n",
    "\n",
    "    m=Y_train.cardinality().numpy()\n",
    "    Adam=tf.keras.optimizers.Adam(learning_rate=learning_rate)\n",
    "    costs,train_acc,test_acc=[],[],[]\n",
    "\n",
    "    train_accuracy=tf.metrics.CategoricalAccuracy()\n",
    "    test_accuracy=tf.metrics.CategoricalAccuracy()\n",
    "\n",
    "    for epoch in range(num_of_epoch):\n",
    "\n",
    "        epoch_cost=0.\n",
    "        train_accuracy.reset_states()\n",
    "        mini_batches=train_dataset.batch(batch_size=batch_size).prefetch(8)\n",
    "\n",
    "        for (mini_batch_X,mini_batch_Y) in mini_batches:\n",
    "\n",
    "            with tf.GradientTape() as tape:\n",
    "                ZL=forward_propagation(X=mini_batch_X,parameters=parameters)\n",
    "                cost=compute_cost(y_pred=ZL,y_true=mini_batch_Y)\n",
    "            \n",
    "            train_accuracy.update_state(y_true=mini_batch_Y,y_pred=tf.transpose(ZL))\n",
    "            grads=tape.gradient(cost,tfs)\n",
    "            Adam.apply_gradients(zip(grads,tfs))\n",
    "            epoch_cost+=cost\n",
    "        \n",
    "        epoch_cost/=m\n",
    "        if epoch%10==0:\n",
    "            print(f\"Cost after {epoch}th is: {epoch_cost}.\")\n",
    "            print(f\"Training accuracy after {epoch} is: {train_accuracy.result()}.\")\n",
    "    \n",
    "    return parameters\n"
   ]
  },
  {
   "cell_type": "code",
   "execution_count": 171,
   "metadata": {},
   "outputs": [
    {
     "name": "stdout",
     "output_type": "stream",
     "text": [
      "Cost after 0th is: 0.05761156231164932.\n",
      "Training accuracy after 0 is: 0.17314815521240234.\n",
      "Cost after 10th is: 0.049386609345674515.\n",
      "Training accuracy after 10 is: 0.3611111044883728.\n",
      "Cost after 20th is: 0.04329695925116539.\n",
      "Training accuracy after 20 is: 0.49537035822868347.\n",
      "Cost after 30th is: 0.03744129836559296.\n",
      "Training accuracy after 30 is: 0.604629635810852.\n",
      "Cost after 40th is: 0.03325697034597397.\n",
      "Training accuracy after 40 is: 0.6527777910232544.\n",
      "Cost after 50th is: 0.03032451495528221.\n",
      "Training accuracy after 50 is: 0.6824073791503906.\n",
      "Cost after 60th is: 0.028164686635136604.\n",
      "Training accuracy after 60 is: 0.6935185194015503.\n",
      "Cost after 70th is: 0.026414353400468826.\n",
      "Training accuracy after 70 is: 0.7194444537162781.\n",
      "Cost after 80th is: 0.02498386614024639.\n",
      "Training accuracy after 80 is: 0.7333333492279053.\n",
      "Cost after 90th is: 0.023723194375634193.\n",
      "Training accuracy after 90 is: 0.7518518567085266.\n",
      "Cost after 100th is: 0.0226153451949358.\n",
      "Training accuracy after 100 is: 0.7648147940635681.\n",
      "Cost after 110th is: 0.021676091477274895.\n",
      "Training accuracy after 110 is: 0.7666666507720947.\n",
      "Cost after 120th is: 0.020785143598914146.\n",
      "Training accuracy after 120 is: 0.779629647731781.\n",
      "Cost after 130th is: 0.019976742565631866.\n",
      "Training accuracy after 130 is: 0.7935185432434082.\n",
      "Cost after 140th is: 0.019232943654060364.\n",
      "Training accuracy after 140 is: 0.8092592358589172.\n",
      "Cost after 150th is: 0.018540287390351295.\n",
      "Training accuracy after 150 is: 0.8148148059844971.\n",
      "Cost after 160th is: 0.017887596040964127.\n",
      "Training accuracy after 160 is: 0.8296296000480652.\n",
      "Cost after 170th is: 0.017222905531525612.\n",
      "Training accuracy after 170 is: 0.8379629850387573.\n",
      "Cost after 180th is: 0.01657143607735634.\n",
      "Training accuracy after 180 is: 0.8416666388511658.\n",
      "Cost after 190th is: 0.01595088467001915.\n",
      "Training accuracy after 190 is: 0.8500000238418579.\n",
      "Cost after 200th is: 0.01531144231557846.\n",
      "Training accuracy after 200 is: 0.8601852059364319.\n",
      "Cost after 210th is: 0.014740793965756893.\n",
      "Training accuracy after 210 is: 0.8638888597488403.\n",
      "Cost after 220th is: 0.014218098483979702.\n",
      "Training accuracy after 220 is: 0.8703703880310059.\n",
      "Cost after 230th is: 0.013679792173206806.\n",
      "Training accuracy after 230 is: 0.8796296119689941.\n",
      "Cost after 240th is: 0.013189966790378094.\n",
      "Training accuracy after 240 is: 0.8861111402511597.\n",
      "Cost after 250th is: 0.012716488912701607.\n",
      "Training accuracy after 250 is: 0.8916666507720947.\n",
      "Cost after 260th is: 0.01226294320076704.\n",
      "Training accuracy after 260 is: 0.894444465637207.\n",
      "Cost after 270th is: 0.01181731466203928.\n",
      "Training accuracy after 270 is: 0.9009259343147278.\n",
      "Cost after 280th is: 0.011397182941436768.\n",
      "Training accuracy after 280 is: 0.9074074029922485.\n",
      "Cost after 290th is: 0.011001331731677055.\n",
      "Training accuracy after 290 is: 0.9101851582527161.\n",
      "Cost after 300th is: 0.01062698569148779.\n",
      "Training accuracy after 300 is: 0.914814829826355.\n",
      "Cost after 310th is: 0.010250033810734749.\n",
      "Training accuracy after 310 is: 0.9185185432434082.\n",
      "Cost after 320th is: 0.00992199033498764.\n",
      "Training accuracy after 320 is: 0.9203703999519348.\n",
      "Cost after 330th is: 0.00958989467471838.\n",
      "Training accuracy after 330 is: 0.9231481552124023.\n",
      "Cost after 340th is: 0.009299199096858501.\n",
      "Training accuracy after 340 is: 0.9296296238899231.\n"
     ]
    }
   ],
   "source": [
    "parameters=model(X_train=new_train,Y_train=new_train_y,X_test=new_test,Y_test=new_test_y,layer_dims=[12288,25,12,6],num_of_epoch=350,batch_size=32,learning_rate=0.0001)\n"
   ]
  },
  {
   "cell_type": "code",
   "execution_count": 172,
   "metadata": {},
   "outputs": [
    {
     "name": "stdout",
     "output_type": "stream",
     "text": [
      "tf.Tensor(\n",
      "[4 0 0 5 1 0 4 1 4 1 5 1 3 1 1 3 5 5 0 4 5 4 2 5 0 5 4 4 1 5 5 1 0 3 1 1 3\n",
      " 4 2 3 3 3 0 2 3 1 1 2 0 3 4 1 2 0 2 0 4 0 4 5 5 5 2 4 3 3 0 1 3 5 0 5 4 1\n",
      " 3 4 3 5 1 4 2 0 1 3 1 4 4 4 4 5 5 0 0 5 5 5 3 4 5 1 2 1 0 4 5 3 0 1 3 4 1\n",
      " 4 2 4 1 1 1 3 1 3], shape=(120,), dtype=int64)\n"
     ]
    }
   ],
   "source": [
    "def predict(X, parameters):\n",
    "    ZL=forward_propagation(X,parameters)\n",
    "    AL=tf.keras.activations.softmax(tf.transpose(ZL))\n",
    "    print(tf.argmax(AL,axis=1))\n",
    "    return AL\n",
    "\n",
    "mini_batch_X=new_test.batch(batch_size=new_test.cardinality())\n",
    "\n",
    "for mini_batch in mini_batch_X:\n",
    "    AL=predict(mini_batch,parameters)\n",
    "\n"
   ]
  },
  {
   "cell_type": "code",
   "execution_count": 173,
   "metadata": {},
   "outputs": [
    {
     "name": "stdout",
     "output_type": "stream",
     "text": [
      "tf.Tensor(\n",
      "[[17  0  0  2  1  0]\n",
      " [ 0 18  0  0  2  0]\n",
      " [ 0  8  9  0  2  1]\n",
      " [ 1  0  0 15  3  1]\n",
      " [ 0  0  1  2 14  3]\n",
      " [ 0  0  0  1  2 17]], shape=(6, 6), dtype=int32)\n"
     ]
    }
   ],
   "source": [
    "y_hat=tf.argmax(AL,axis=1)\n",
    "\n",
    "mini_batch_Y=new_test_y.batch(batch_size=new_test_y.cardinality())\n",
    "for mini_batch in mini_batch_Y:\n",
    "    y_label=tf.argmax(mini_batch,axis=1)\n",
    "    \n",
    "conf=tf.math.confusion_matrix(labels=y_label,predictions=y_hat,num_classes=6)\n",
    "print(conf)\n"
   ]
  },
  {
   "cell_type": "code",
   "execution_count": 174,
   "metadata": {},
   "outputs": [
    {
     "name": "stdout",
     "output_type": "stream",
     "text": [
      "[[17  0  0  2  1  0]\n",
      " [ 0 18  0  0  2  0]\n",
      " [ 0  8  9  0  2  1]\n",
      " [ 1  0  0 15  3  1]\n",
      " [ 0  0  1  2 14  3]\n",
      " [ 0  0  0  1  2 17]]\n"
     ]
    },
    {
     "data": {
      "image/png": "[encoded data removed]",
      "text/plain": [
       "<Figure size 640x480 with 2 Axes>"
      ]
     },
     "metadata": {},
     "output_type": "display_data"
    }
   ],
   "source": [
    "# mtc.confusion_matrix(y_true=y_label,y_pred=y_hat,labels=[0,1,2,3,4,5])\n",
    "C=mtc.confusion_matrix(y_true=y_label,y_pred=y_hat,labels=[0,1,2,3,4,5])\n",
    "print(C)\n",
    "conmatrix=mtc.ConfusionMatrixDisplay(confusion_matrix=C)\n",
    "conmatrix.plot(cmap='Greens')\n",
    "plt.show()"
   ]
  },
  {
   "cell_type": "code",
   "execution_count": 158,
   "metadata": {},
   "outputs": [
    {
     "name": "stdout",
     "output_type": "stream",
     "text": [
      "Cost after 0th is: 0.05867232754826546.\n",
      "Training accuracy after 0 is: 0.1666666716337204.\n",
      "Cost after 10th is: 0.05622854083776474.\n",
      "Training accuracy after 10 is: 0.17870371043682098.\n",
      "Cost after 20th is: 0.054537583142519.\n",
      "Training accuracy after 20 is: 0.32870370149612427.\n",
      "Cost after 30th is: 0.05258669704198837.\n",
      "Training accuracy after 30 is: 0.47592592239379883.\n",
      "Cost after 40th is: 0.05111541599035263.\n",
      "Training accuracy after 40 is: 0.6101852059364319.\n",
      "Cost after 50th is: 0.04950283095240593.\n",
      "Training accuracy after 50 is: 0.6203703880310059.\n",
      "Cost after 60th is: 0.04771531745791435.\n",
      "Training accuracy after 60 is: 0.6462963223457336.\n",
      "Cost after 70th is: 0.04612256959080696.\n",
      "Training accuracy after 70 is: 0.6851851940155029.\n",
      "Cost after 80th is: 0.044562336057424545.\n",
      "Training accuracy after 80 is: 0.6879629492759705.\n",
      "Cost after 90th is: 0.04303167387843132.\n",
      "Training accuracy after 90 is: 0.699999988079071.\n",
      "Cost after 100th is: 0.041459329426288605.\n",
      "Training accuracy after 100 is: 0.720370352268219.\n",
      "Cost after 110th is: 0.039878975600004196.\n",
      "Training accuracy after 110 is: 0.7277777791023254.\n",
      "Cost after 120th is: 0.038374755531549454.\n",
      "Training accuracy after 120 is: 0.7361111044883728.\n",
      "Cost after 130th is: 0.03690134733915329.\n",
      "Training accuracy after 130 is: 0.7481481432914734.\n",
      "Cost after 140th is: 0.03545929491519928.\n",
      "Training accuracy after 140 is: 0.769444465637207.\n",
      "Cost after 150th is: 0.034051306545734406.\n",
      "Training accuracy after 150 is: 0.7907407283782959.\n",
      "Cost after 160th is: 0.03267989680171013.\n",
      "Training accuracy after 160 is: 0.7981481552124023.\n",
      "Cost after 170th is: 0.031347665935754776.\n",
      "Training accuracy after 170 is: 0.8138889074325562.\n",
      "Cost after 180th is: 0.030057335272431374.\n",
      "Training accuracy after 180 is: 0.8277778029441833.\n",
      "Cost after 190th is: 0.028809893876314163.\n",
      "Training accuracy after 190 is: 0.8398148417472839.\n",
      "Cost after 200th is: 0.027604926377534866.\n",
      "Training accuracy after 200 is: 0.8500000238418579.\n",
      "Cost after 210th is: 0.026442307978868484.\n",
      "Training accuracy after 210 is: 0.864814817905426.\n",
      "Cost after 220th is: 0.025320248678326607.\n",
      "Training accuracy after 220 is: 0.8722222447395325.\n",
      "Cost after 230th is: 0.02424592338502407.\n",
      "Training accuracy after 230 is: 0.8861111402511597.\n",
      "Cost after 240th is: 0.02321222424507141.\n",
      "Training accuracy after 240 is: 0.8907407522201538.\n",
      "tf.Tensor(\n",
      "[0 0 0 5 1 0 3 1 4 1 5 1 3 1 1 3 5 4 0 4 5 4 2 5 0 5 4 2 1 4 5 1 0 3 1 1 3\n",
      " 3 2 3 0 3 0 2 3 1 1 3 0 3 4 1 2 0 4 0 5 0 1 5 5 4 2 4 3 3 0 1 0 5 0 5 3 1\n",
      " 3 5 3 5 1 5 2 0 1 3 2 4 4 1 4 5 5 0 0 4 5 5 3 1 5 2 2 1 0 3 4 3 0 1 3 5 1\n",
      " 3 2 4 2 1 1 3 1 3], shape=(120,), dtype=int64)\n",
      "[[19  0  0  1  0  0]\n",
      " [ 0 19  0  1  0  0]\n",
      " [ 0  5 12  2  1  0]\n",
      " [ 2  1  0 16  0  1]\n",
      " [ 0  1  0  3 11  5]\n",
      " [ 0  0  0  1  4 15]]\n"
     ]
    },
    {
     "data": {
      "image/png": "[encoded data removed]",
      "text/plain": [
       "<Figure size 640x480 with 2 Axes>"
      ]
     },
     "metadata": {},
     "output_type": "display_data"
    }
   ],
   "source": [
    "parameters=model(X_train=new_train,Y_train=new_train_y,X_test=new_test,Y_test=new_test_y,layer_dims=[12288,25,12,6],num_of_epoch=250,batch_size=32,learning_rate=0.0001)\n",
    "\n",
    "mini_batch_X=new_test.batch(batch_size=new_test.cardinality())\n",
    "\n",
    "for mini_batch in mini_batch_X:\n",
    "    AL=predict(mini_batch,parameters)\n",
    "\n",
    "y_hat=tf.argmax(AL,axis=1)\n",
    "\n",
    "mini_batch_Y=new_test_y.batch(batch_size=new_test_y.cardinality())\n",
    "for mini_batch in mini_batch_Y:\n",
    "    y_label=tf.argmax(mini_batch,axis=1)\n",
    "\n",
    "C=mtc.confusion_matrix(y_true=y_label,y_pred=y_hat,labels=[0,1,2,3,4,5])\n",
    "print(C)\n",
    "conmatrix=mtc.ConfusionMatrixDisplay(confusion_matrix=C)\n",
    "conmatrix.plot(cmap='Greens')\n",
    "plt.show()"
   ]
  }
 ],
 "metadata": {
  "kernelspec": {
   "display_name": "Python 3",
   "language": "python",
   "name": "python3"
  },
  "language_info": {
   "codemirror_mode": {
    "name": "ipython",
    "version": 3
   },
   "file_extension": ".py",
   "mimetype": "text/x-python",
   "name": "python",
   "nbconvert_exporter": "python",
   "pygments_lexer": "ipython3",
   "version": "3.11.1"
  },
  "orig_nbformat": 4
 },
 "nbformat": 4,
 "nbformat_minor": 2
}
