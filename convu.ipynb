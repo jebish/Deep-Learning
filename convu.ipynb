{
 "cells": [
  {
   "cell_type": "code",
   "execution_count": 1,
   "metadata": {},
   "outputs": [],
   "source": [
    "import numpy as np\n",
    "from matplotlib import pyplot as plt\n",
    "import h5py\n",
    "\n",
    "%matplotlib inline\n",
    "plt.rcParams['figure.figsize']=(5.0,4.0)\n",
    "plt.rcParams['image.interpolation']='nearest'\n",
    "plt.rcParams['image.cmap']='gray'\n",
    "\n",
    "np.random.seed(1)"
   ]
  },
  {
   "cell_type": "markdown",
   "metadata": {},
   "source": [
    "Outline:\n",
    "Implement the building block of a convolutional neural network\n",
    "Convolution functions:\n",
    "Zero Padding\n",
    "Convolve window\n",
    "Convolution Forward\n",
    "convolution backward (optional)\n",
    "\n",
    "Pooling functions:\n",
    "Pooling forward\n",
    "Create mask\n",
    "Distribute value\n",
    "Pooling backward (optional)"
   ]
  },
  {
   "cell_type": "code",
   "execution_count": 2,
   "metadata": {},
   "outputs": [],
   "source": [
    "def zero_pad(X,pad):\n",
    "    '''\n",
    "    Pad with zeros all images of the dataset X. The padding is applied to the height and width of the image, use np.pad function\n",
    "    '''\n",
    "    X_pad=np.pad(X,((0,0),(pad,pad),(pad,pad),(0,0)))\n",
    "\n",
    "    return X_pad"
   ]
  },
  {
   "cell_type": "code",
   "execution_count": 3,
   "metadata": {},
   "outputs": [
    {
     "name": "stdout",
     "output_type": "stream",
     "text": [
      "x.shape= (4, 3, 3, 2)\n",
      "x_pad.shape= (4, 7, 7, 2)\n",
      "x[1,1] = [[ 0.90085595 -0.68372786]\n",
      " [-0.12289023 -0.93576943]\n",
      " [-0.26788808  0.53035547]]\n",
      "x_pad[1,1] = [[0. 0.]\n",
      " [0. 0.]\n",
      " [0. 0.]\n",
      " [0. 0.]\n",
      " [0. 0.]\n",
      " [0. 0.]\n",
      " [0. 0.]]\n"
     ]
    },
    {
     "data": {
      "text/plain": [
       "<matplotlib.image.AxesImage at 0x24129c9f810>"
      ]
     },
     "execution_count": 3,
     "metadata": {},
     "output_type": "execute_result"
    },
    {
     "data": {
      "image/png": "[encoded data removed]",
      "text/plain": [
       "<Figure size 500x400 with 2 Axes>"
      ]
     },
     "metadata": {},
     "output_type": "display_data"
    }
   ],
   "source": [
    "x=np.random.randn(4,3,3,2)\n",
    "x_pad=zero_pad(x,2)\n",
    "print('x.shape=',x.shape)\n",
    "print('x_pad.shape=',x_pad.shape)\n",
    "print (\"x[1,1] =\", x[1,1])\n",
    "print (\"x_pad[1,1] =\", x_pad[1,1])\n",
    "\n",
    "fig,ax=plt.subplots(1,2)\n",
    "ax[0].set_title('X')\n",
    "ax[0].imshow(x[0,:,:,0])\n",
    "ax[1].set_title('X-padded')\n",
    "ax[1].imshow(x_pad[0,:,:,0])"
   ]
  },
  {
   "cell_type": "code",
   "execution_count": 17,
   "metadata": {},
   "outputs": [],
   "source": [
    "def conv_single_step(a_slice_prev,W,b):\n",
    "    '''Perform convolution for one slice or position of a and return a single real value'''\n",
    "    Z_inter=a_slice_prev*W\n",
    "    Z_inter=np.sum(Z_inter)\n",
    "    Z=Z_inter+np.float32(b[0,0,0])\n",
    "    return Z "
   ]
  },
  {
   "cell_type": "code",
   "execution_count": 37,
   "metadata": {},
   "outputs": [
    {
     "name": "stdout",
     "output_type": "stream",
     "text": [
      "Z is-7.00\n"
     ]
    }
   ],
   "source": [
    "np.random.seed(1)\n",
    "a_slice_prev=np.random.randn(4,4,3)\n",
    "W=np.random.randn(4,4,3)\n",
    "b=np.random.randn(1,1,1)\n",
    "\n",
    "Z=conv_single_step(a_slice_prev,W,b)\n",
    "print(f\"Z is{format(Z,'.2f')}\")"
   ]
  },
  {
   "cell_type": "code",
   "execution_count": 56,
   "metadata": {},
   "outputs": [],
   "source": [
    "def conv_forward(A_prev,W,b,hparameters):\n",
    "    (m,n_H_prev,n_W_prev,n_C_prev)=A_prev.shape\n",
    "    (f,f,n_C_prev,n_C)=W.shape\n",
    "    stride=hparameters['stride']\n",
    "    padding=hparameters['padding']\n",
    "    n_H=int(((n_H_prev-f+(2*padding))/stride)+1)\n",
    "    n_W=int(((n_W_prev-f+(2*padding))/stride)+1)\n",
    "    Z=np.zeros((m,n_H,n_W,n_C))\n",
    "    A_prev_pad=np.pad(A_prev,((0,0),(padding,padding),(padding,padding),(0,0)))\n",
    "    for i in range(m):\n",
    "        current_a_prev_pad=A_prev_pad[i]\n",
    "        for ver in range(n_H):\n",
    "            for hor in range(n_W):\n",
    "                for channel in range(n_C):\n",
    "                    vert_start=ver*stride\n",
    "                    vert_end=vert_start+f\n",
    "                    horiz_start=hor*stride\n",
    "                    horiz_end=horiz_start+f\n",
    "                    a_slice_prev=current_a_prev_pad[vert_start:vert_end,horiz_start:horiz_end,:]\n",
    "                    Z[i,ver,hor,channel]=conv_single_step(a_slice_prev,W[:,:,:,channel],b[:,:,:,channel])\n",
    "    assert(Z.shape==(m,n_H,n_W,n_C))\n",
    "    cache=(A_prev,W,b,hparameters)\n",
    "    return Z,cache"
   ]
  },
  {
   "cell_type": "code",
   "execution_count": 57,
   "metadata": {},
   "outputs": [
    {
     "name": "stdout",
     "output_type": "stream",
     "text": [
      "Z's mean = 0.048995203528855794\n",
      "Z[3,2,1] = [[ 1.1010002   1.1010002   1.1010002   1.1010002 ]\n",
      " [ 1.1010002   0.62776531 -0.17734121  1.1010002 ]\n",
      " [ 1.1010002   1.75698377  0.63687584  1.1010002 ]\n",
      " [ 1.1010002   1.1010002   1.1010002   1.1010002 ]]\n"
     ]
    }
   ],
   "source": [
    "np.random.seed(1)\n",
    "A_prev=np.random.randn(10,4,4,3)\n",
    "W=np.random.randn(2,2,3,8)\n",
    "b=np.random.randn(1,1,1,8)\n",
    "hparameters={'padding':2,\n",
    "             'stride':2}\n",
    "\n",
    "Z,cache_conv=conv_forward(A_prev,W,b,hparameters)\n",
    "print(\"Z's mean =\",np.mean(Z))\n",
    "print(\"Z[3,2,1] =\", Z[3,:,:,3])"
   ]
  },
  {
   "cell_type": "code",
   "execution_count": 58,
   "metadata": {},
   "outputs": [],
   "source": [
    "def pool_forward(A_prev,hparameters,mode='max'):\n",
    "    (m,n_H_prev,n_W_prev,n_C_prev)=A_prev.shape\n",
    "    f=hparameters['pool-f']\n",
    "    stride=hparameters['pool-stride']\n",
    "\n",
    "    n_H=int((n_H_prev-f+stride)/stride)\n",
    "    n_W=int((n_H_prev-f+stride)/stride)\n",
    "    n_C=n_C_prev\n",
    "\n",
    "    A=np.zeros((m,n_H,n_W,n_C))\n",
    "\n",
    "    for i in range(m):\n",
    "        current_a_prev=A_prev[i]\n",
    "        for ver in range(n_H):\n",
    "            for horiz in range(n_W):\n",
    "                for channel in range(n_C):\n",
    "                    vert_start=ver*stride\n",
    "                    vert_end=vert_start+f\n",
    "                    horiz_start=horiz*stride\n",
    "                    horiz_end=horiz_start+f\n",
    "\n",
    "                    a_slice_prev=current_a_prev[vert_start:vert_end,horiz_start:horiz_end,channel]\n",
    "                    if mode=='average':\n",
    "                        A[i,ver,horiz,channel]=np.mean(a_slice_prev)\n",
    "                    else:\n",
    "                        A[i,ver,horiz,channel]=np.max(a_slice_prev)\n",
    "    \n",
    "    assert(A.shape==(m,n_H,n_W,n_C))\n",
    "\n",
    "    cache=(A_prev,hparameters)\n",
    "    return A,cache\n",
    "                "
   ]
  },
  {
   "cell_type": "code",
   "execution_count": 60,
   "metadata": {},
   "outputs": [
    {
     "name": "stdout",
     "output_type": "stream",
     "text": [
      "mode = max\n",
      "A = [[[[1.74481176 0.86540763 1.13376944]]]\n",
      "\n",
      "\n",
      " [[[1.13162939 1.51981682 2.18557541]]]]\n",
      "\n",
      "mode = average\n",
      "A = [[[[ 0.02105773 -0.20328806 -0.40389855]]]\n",
      "\n",
      "\n",
      " [[[-0.22154621  0.51716526  0.48155844]]]]\n"
     ]
    }
   ],
   "source": [
    "np.random.seed(1)\n",
    "A_prev = np.random.randn(2, 4, 4, 3)\n",
    "hparameters = {\"pool-stride\" : 2, \"pool-f\": 3}\n",
    "\n",
    "A, cache = pool_forward(A_prev, hparameters)\n",
    "print(\"mode = max\")\n",
    "print(\"A =\", A)\n",
    "print()\n",
    "A, cache = pool_forward(A_prev, hparameters, mode = \"average\")\n",
    "print(\"mode = average\")\n",
    "print(\"A =\", A)"
   ]
  }
 ],
 "metadata": {
  "kernelspec": {
   "display_name": "Python 3",
   "language": "python",
   "name": "python3"
  },
  "language_info": {
   "codemirror_mode": {
    "name": "ipython",
    "version": 3
   },
   "file_extension": ".py",
   "mimetype": "text/x-python",
   "name": "python",
   "nbconvert_exporter": "python",
   "pygments_lexer": "ipython3",
   "version": "3.11.1"
  },
  "orig_nbformat": 4
 },
 "nbformat": 4,
 "nbformat_minor": 2
}
