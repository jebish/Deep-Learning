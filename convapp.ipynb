{
 "cells": [
  {
   "cell_type": "code",
   "execution_count": 1,
   "metadata": {},
   "outputs": [],
   "source": [
    "import math\n",
    "import numpy as np\n",
    "import h5py as hpy\n",
    "from matplotlib import pyplot as plt\n",
    "from scipy import ndimage\n",
    "from PIL import Image\n",
    "import tensorflow as tf\n",
    "\n",
    "%matplotlib inline\n",
    "np.random.seed(1)"
   ]
  },
  {
   "cell_type": "code",
   "execution_count": 15,
   "metadata": {},
   "outputs": [],
   "source": [
    "file=hpy.File('train_signs.h5','r')\n",
    "X_train_orig=tf.data.Dataset.from_tensor_slices(file['train_set_x'])\n",
    "Y_train_orig=tf.data.Dataset.from_tensor_slices(file['train_set_y'])\n",
    "\n",
    "file=hpy.File('test_signs.h5','r')\n",
    "X_test_orig=tf.data.Dataset.from_tensor_slices(file['test_set_x'])\n",
    "Y_test_orig=tf.data.Dataset.from_tensor_slices(file['test_set_y'])\n"
   ]
  },
  {
   "cell_type": "code",
   "execution_count": 62,
   "metadata": {},
   "outputs": [
    {
     "data": {
      "image/png": "[encoded data removed]",
      "text/plain": [
       "<Figure size 640x480 with 1 Axes>"
      ]
     },
     "metadata": {},
     "output_type": "display_data"
    }
   ],
   "source": [
    "index=25\n",
    "dataset=tf.data.Dataset.zip(X_train_orig,Y_train_orig)\n",
    "for (datas_X,datas_Y) in dataset:\n",
    "    index-=1\n",
    "    if index==0:\n",
    "        plt.imshow(datas_X)\n",
    "        plt.xlabel(f\"Y={datas_Y.numpy()}\")\n",
    "        break"
   ]
  },
  {
   "cell_type": "markdown",
   "metadata": {},
   "source": [
    "Normalize the dataset, also need of one hot encoding maybe"
   ]
  },
  {
   "cell_type": "code",
   "execution_count": 72,
   "metadata": {},
   "outputs": [],
   "source": [
    "def normalize(image):\n",
    "    image=tf.cast(image,dtype=tf.float32)/255\n",
    "    return image\n",
    "\n",
    "X_train_norm=X_train_orig.map(normalize)\n",
    "X_test_norm=X_test_orig.map(normalize)\n"
   ]
  },
  {
   "cell_type": "code",
   "execution_count": 90,
   "metadata": {},
   "outputs": [],
   "source": [
    "def one_hot(label,depth):\n",
    "    label=tf.one_hot(indices=label,depth=depth)\n",
    "    return label\n",
    "\n",
    "Y_test_one=Y_test_orig.map(lambda Y_test_orig:one_hot(Y_test_orig,6))\n",
    "Y_train_one=Y_train_orig.map(lambda Y_train_orig:one_hot(Y_train_orig,6))\n"
   ]
  },
  {
   "cell_type": "markdown",
   "metadata": {},
   "source": [
    "TensorFlow requires that uou create placeholder for image data\n",
    "\n",
    "def create_placeholders(n_H0,n_W0,n_C0,n_y)"
   ]
  },
  {
   "cell_type": "code",
   "execution_count": 126,
   "metadata": {},
   "outputs": [],
   "source": [
    "def create_placeholders(n_H0,n_W0,n_C0,n_y):\n",
    "    X=tf.keras.Input(shape=[n_H0,n_W0,n_C0])\n",
    "    Y=tf.keras.Input(shape=(n_y))\n",
    "    return X,Y"
   ]
  },
  {
   "cell_type": "code",
   "execution_count": 99,
   "metadata": {},
   "outputs": [
    {
     "name": "stdout",
     "output_type": "stream",
     "text": [
      "KerasTensor(type_spec=TensorSpec(shape=(None, None, 64, 64, 3), dtype=tf.float32, name='input_9'), name='input_9', description=\"created by layer 'input_9'\")\n"
     ]
    }
   ],
   "source": [
    "X,Y=create_placeholders(64,64,3,6)\n",
    "print(X)"
   ]
  },
  {
   "cell_type": "markdown",
   "metadata": {},
   "source": [
    "Initialize parameters for filters"
   ]
  },
  {
   "cell_type": "code",
   "execution_count": 138,
   "metadata": {},
   "outputs": [],
   "source": [
    "def initialize_parameters():\n",
    "    initializer=tf.initializers.glorot_normal(seed=0)\n",
    "    \n",
    "    W1=tf.Variable(initial_value=initializer(shape=[4,4,3,8]))\n",
    "    W2=tf.Variable(initial_value=initializer(shape=[2,2,8,16]))\n",
    "\n",
    "    parameters={'W1':W1,\n",
    "                'W2':W2}\n",
    "    \n",
    "    return parameters"
   ]
  },
  {
   "cell_type": "code",
   "execution_count": 139,
   "metadata": {},
   "outputs": [
    {
     "name": "stdout",
     "output_type": "stream",
     "text": [
      "(2, 2, 8, 16)\n"
     ]
    }
   ],
   "source": [
    "parameters=initialize_parameters()\n",
    "print(parameters['W2'].shape)"
   ]
  },
  {
   "cell_type": "code",
   "execution_count": 164,
   "metadata": {},
   "outputs": [],
   "source": [
    "def convNet(input_shape):\n",
    "    \n",
    "    input_img=tf.keras.Input(shape=input_shape)\n",
    "    \n",
    "    # W1=parameters['W1']\n",
    "    # W2=parameters['W2']\n",
    "\n",
    "    Z1=tf.keras.layers.Conv2D(filters=8,kernel_size=(4,4),strides=(1,1),padding=\"SAME\")(input_img)\n",
    "    A1=tf.keras.layers.ReLU()(Z1)\n",
    "    # P1=tf.nn.max_pool(input=A1,ksize=[1,8,8,1],strides=[1,8,8,1],padding='SAME')\n",
    "    P1 = tf.keras.layers.MaxPool2D(pool_size=(8,8), strides=(8, 8), padding='same')(A1)\n",
    "    # Z2=tf.nn.conv2d(input=P1,filters=W2,strides=[1,1,1,1],padding='SAME')\n",
    "    Z2=tf.keras.layers.Conv2D(filters=16,kernel_size=(2,2),strides=(1,1),padding=\"SAME\")(P1)\n",
    "    # A2=tf.nn.relu(Z2)\n",
    "    A2=tf.keras.layers.ReLU()(Z2)\n",
    "    # P2=tf.nn.max_pool(input=A2,ksize=[1,4,4,1],strides=[1,4,4,1],padding='SAME')\n",
    "    P2 = tf.keras.layers.MaxPool2D(pool_size=(4,4), strides=(4, 4), padding='same')(A2)\n",
    "    F=tf.keras.layers.Flatten()(P2)\n",
    "    Z3=tf.keras.layers.Dense(units=6,activation='linear')(F)\n",
    "\n",
    "    model=tf.keras.Model(inputs=input_img,outputs=Z3)\n",
    "    return model\n",
    "    return Z3"
   ]
  },
  {
   "cell_type": "code",
   "execution_count": 170,
   "metadata": {},
   "outputs": [
    {
     "name": "stdout",
     "output_type": "stream",
     "text": [
      "Model: \"model_15\"\n",
      "_________________________________________________________________\n",
      " Layer (type)                Output Shape              Param #   \n",
      "=================================================================\n",
      " input_45 (InputLayer)       [(None, 64, 64, 3)]       0         \n",
      "                                                                 \n",
      " conv2d_23 (Conv2D)          (None, 64, 64, 8)         392       \n",
      "                                                                 \n",
      " re_lu_20 (ReLU)             (None, 64, 64, 8)         0         \n",
      "                                                                 \n",
      " max_pooling2d_20 (MaxPooli  (None, 8, 8, 8)           0         \n",
      " ng2D)                                                           \n",
      "                                                                 \n",
      " conv2d_24 (Conv2D)          (None, 8, 8, 16)          528       \n",
      "                                                                 \n",
      " re_lu_21 (ReLU)             (None, 8, 8, 16)          0         \n",
      "                                                                 \n",
      " max_pooling2d_21 (MaxPooli  (None, 2, 2, 16)          0         \n",
      " ng2D)                                                           \n",
      "                                                                 \n",
      " flatten_24 (Flatten)        (None, 64)                0         \n",
      "                                                                 \n",
      " dense_15 (Dense)            (None, 6)                 390       \n",
      "                                                                 \n",
      "=================================================================\n",
      "Total params: 1310 (5.12 KB)\n",
      "Trainable params: 1310 (5.12 KB)\n",
      "Non-trainable params: 0 (0.00 Byte)\n",
      "_________________________________________________________________\n"
     ]
    }
   ],
   "source": [
    "conv_model=convNet((64,64,3))\n",
    "conv_model.compile(optimizer='adam',loss=tf.keras.losses.CategoricalCrossentropy(from_logits=True),metrics=['accuracy'])\n",
    "conv_model.summary()"
   ]
  },
  {
   "cell_type": "code",
   "execution_count": 168,
   "metadata": {},
   "outputs": [
    {
     "name": "stdout",
     "output_type": "stream",
     "text": [
      "tf.Tensor(17, shape=(), dtype=int64)\n",
      "Epoch 1/100\n",
      "17/17 [==============================] - 1s 29ms/step - loss: 1.7934 - accuracy: 0.1907\n",
      "Epoch 2/100\n",
      "17/17 [==============================] - 0s 28ms/step - loss: 1.7860 - accuracy: 0.2120\n",
      "Epoch 3/100\n",
      "17/17 [==============================] - 0s 29ms/step - loss: 1.7823 - accuracy: 0.2491\n",
      "Epoch 4/100\n",
      "17/17 [==============================] - 0s 28ms/step - loss: 1.7795 - accuracy: 0.2426\n",
      "Epoch 5/100\n",
      "17/17 [==============================] - 0s 29ms/step - loss: 1.7750 - accuracy: 0.2676\n",
      "Epoch 6/100\n",
      "17/17 [==============================] - 0s 29ms/step - loss: 1.7704 - accuracy: 0.2991\n",
      "Epoch 7/100\n",
      "17/17 [==============================] - 0s 29ms/step - loss: 1.7637 - accuracy: 0.3176\n",
      "Epoch 8/100\n",
      "17/17 [==============================] - 0s 28ms/step - loss: 1.7538 - accuracy: 0.3481\n",
      "Epoch 9/100\n",
      "17/17 [==============================] - 1s 30ms/step - loss: 1.7407 - accuracy: 0.3778\n",
      "Epoch 10/100\n",
      "17/17 [==============================] - 0s 29ms/step - loss: 1.7226 - accuracy: 0.3991\n",
      "Epoch 11/100\n",
      "17/17 [==============================] - 0s 28ms/step - loss: 1.6955 - accuracy: 0.4250\n",
      "Epoch 12/100\n",
      "17/17 [==============================] - 0s 29ms/step - loss: 1.6616 - accuracy: 0.4657\n",
      "Epoch 13/100\n",
      "17/17 [==============================] - 0s 29ms/step - loss: 1.6222 - accuracy: 0.4889\n",
      "Epoch 14/100\n",
      "17/17 [==============================] - 0s 29ms/step - loss: 1.5773 - accuracy: 0.4981\n",
      "Epoch 15/100\n",
      "17/17 [==============================] - 0s 29ms/step - loss: 1.5279 - accuracy: 0.5167\n",
      "Epoch 16/100\n",
      "17/17 [==============================] - 0s 29ms/step - loss: 1.4743 - accuracy: 0.5269\n",
      "Epoch 17/100\n",
      "17/17 [==============================] - 0s 29ms/step - loss: 1.4196 - accuracy: 0.5472\n",
      "Epoch 18/100\n",
      "17/17 [==============================] - 0s 29ms/step - loss: 1.3694 - accuracy: 0.5546\n",
      "Epoch 19/100\n",
      "17/17 [==============================] - 0s 28ms/step - loss: 1.3227 - accuracy: 0.5620\n",
      "Epoch 20/100\n",
      "17/17 [==============================] - 1s 31ms/step - loss: 1.2801 - accuracy: 0.5778\n",
      "Epoch 21/100\n",
      "17/17 [==============================] - 1s 33ms/step - loss: 1.2410 - accuracy: 0.5907\n",
      "Epoch 22/100\n",
      "17/17 [==============================] - 1s 32ms/step - loss: 1.2055 - accuracy: 0.5991\n",
      "Epoch 23/100\n",
      "17/17 [==============================] - 0s 28ms/step - loss: 1.1725 - accuracy: 0.6102\n",
      "Epoch 24/100\n",
      "17/17 [==============================] - 1s 30ms/step - loss: 1.1418 - accuracy: 0.6167\n",
      "Epoch 25/100\n",
      "17/17 [==============================] - 0s 28ms/step - loss: 1.1139 - accuracy: 0.6231\n",
      "Epoch 26/100\n",
      "17/17 [==============================] - 0s 28ms/step - loss: 1.0877 - accuracy: 0.6296\n",
      "Epoch 27/100\n",
      "17/17 [==============================] - 1s 29ms/step - loss: 1.0629 - accuracy: 0.6361\n",
      "Epoch 28/100\n",
      "17/17 [==============================] - 0s 29ms/step - loss: 1.0396 - accuracy: 0.6472\n",
      "Epoch 29/100\n",
      "17/17 [==============================] - 0s 29ms/step - loss: 1.0179 - accuracy: 0.6528\n",
      "Epoch 30/100\n",
      "17/17 [==============================] - 0s 28ms/step - loss: 0.9976 - accuracy: 0.6620\n",
      "Epoch 31/100\n",
      "17/17 [==============================] - 0s 29ms/step - loss: 0.9785 - accuracy: 0.6676\n",
      "Epoch 32/100\n",
      "17/17 [==============================] - 0s 28ms/step - loss: 0.9606 - accuracy: 0.6704\n",
      "Epoch 33/100\n",
      "17/17 [==============================] - 1s 30ms/step - loss: 0.9440 - accuracy: 0.6713\n",
      "Epoch 34/100\n",
      "17/17 [==============================] - 0s 28ms/step - loss: 0.9287 - accuracy: 0.6769\n",
      "Epoch 35/100\n",
      "17/17 [==============================] - 0s 29ms/step - loss: 0.9138 - accuracy: 0.6843\n",
      "Epoch 36/100\n",
      "17/17 [==============================] - 0s 28ms/step - loss: 0.8994 - accuracy: 0.6917\n",
      "Epoch 37/100\n",
      "17/17 [==============================] - 1s 29ms/step - loss: 0.8861 - accuracy: 0.6963\n",
      "Epoch 38/100\n",
      "17/17 [==============================] - 0s 28ms/step - loss: 0.8737 - accuracy: 0.7019\n",
      "Epoch 39/100\n",
      "17/17 [==============================] - 1s 30ms/step - loss: 0.8622 - accuracy: 0.7028\n",
      "Epoch 40/100\n",
      "17/17 [==============================] - 0s 28ms/step - loss: 0.8506 - accuracy: 0.7046\n",
      "Epoch 41/100\n",
      "17/17 [==============================] - 0s 28ms/step - loss: 0.8398 - accuracy: 0.7065\n",
      "Epoch 42/100\n",
      "17/17 [==============================] - 0s 29ms/step - loss: 0.8295 - accuracy: 0.7083\n",
      "Epoch 43/100\n",
      "17/17 [==============================] - 1s 29ms/step - loss: 0.8195 - accuracy: 0.7130\n",
      "Epoch 44/100\n",
      "17/17 [==============================] - 1s 29ms/step - loss: 0.8101 - accuracy: 0.7157\n",
      "Epoch 45/100\n",
      "17/17 [==============================] - 0s 29ms/step - loss: 0.8007 - accuracy: 0.7194\n",
      "Epoch 46/100\n",
      "17/17 [==============================] - 1s 30ms/step - loss: 0.7920 - accuracy: 0.7222\n",
      "Epoch 47/100\n",
      "17/17 [==============================] - 0s 29ms/step - loss: 0.7836 - accuracy: 0.7269\n",
      "Epoch 48/100\n",
      "17/17 [==============================] - 0s 29ms/step - loss: 0.7755 - accuracy: 0.7315\n",
      "Epoch 49/100\n",
      "17/17 [==============================] - 0s 28ms/step - loss: 0.7676 - accuracy: 0.7352\n",
      "Epoch 50/100\n",
      "17/17 [==============================] - 0s 29ms/step - loss: 0.7602 - accuracy: 0.7398\n",
      "Epoch 51/100\n",
      "17/17 [==============================] - 0s 29ms/step - loss: 0.7532 - accuracy: 0.7454\n",
      "Epoch 52/100\n",
      "17/17 [==============================] - 0s 29ms/step - loss: 0.7466 - accuracy: 0.7500\n",
      "Epoch 53/100\n",
      "17/17 [==============================] - 0s 29ms/step - loss: 0.7399 - accuracy: 0.7509\n",
      "Epoch 54/100\n",
      "17/17 [==============================] - 0s 28ms/step - loss: 0.7335 - accuracy: 0.7509\n",
      "Epoch 55/100\n",
      "17/17 [==============================] - 1s 30ms/step - loss: 0.7273 - accuracy: 0.7537\n",
      "Epoch 56/100\n",
      "17/17 [==============================] - 0s 28ms/step - loss: 0.7208 - accuracy: 0.7574\n",
      "Epoch 57/100\n",
      "17/17 [==============================] - 1s 29ms/step - loss: 0.7148 - accuracy: 0.7611\n",
      "Epoch 58/100\n",
      "17/17 [==============================] - 0s 28ms/step - loss: 0.7087 - accuracy: 0.7620\n",
      "Epoch 59/100\n",
      "17/17 [==============================] - 0s 29ms/step - loss: 0.7029 - accuracy: 0.7639\n",
      "Epoch 60/100\n",
      "17/17 [==============================] - 0s 28ms/step - loss: 0.6972 - accuracy: 0.7648\n",
      "Epoch 61/100\n",
      "17/17 [==============================] - 0s 29ms/step - loss: 0.6918 - accuracy: 0.7667\n",
      "Epoch 62/100\n",
      "17/17 [==============================] - 0s 28ms/step - loss: 0.6863 - accuracy: 0.7676\n",
      "Epoch 63/100\n",
      "17/17 [==============================] - 0s 29ms/step - loss: 0.6812 - accuracy: 0.7694\n",
      "Epoch 64/100\n",
      "17/17 [==============================] - 0s 28ms/step - loss: 0.6761 - accuracy: 0.7694\n",
      "Epoch 65/100\n",
      "17/17 [==============================] - 0s 29ms/step - loss: 0.6713 - accuracy: 0.7704\n",
      "Epoch 66/100\n",
      "17/17 [==============================] - 0s 29ms/step - loss: 0.6665 - accuracy: 0.7741\n",
      "Epoch 67/100\n",
      "17/17 [==============================] - 0s 29ms/step - loss: 0.6618 - accuracy: 0.7769\n",
      "Epoch 68/100\n",
      "17/17 [==============================] - 0s 28ms/step - loss: 0.6574 - accuracy: 0.7796\n",
      "Epoch 69/100\n",
      "17/17 [==============================] - 1s 29ms/step - loss: 0.6533 - accuracy: 0.7824\n",
      "Epoch 70/100\n",
      "17/17 [==============================] - 0s 28ms/step - loss: 0.6492 - accuracy: 0.7843\n",
      "Epoch 71/100\n",
      "17/17 [==============================] - 0s 28ms/step - loss: 0.6450 - accuracy: 0.7852\n",
      "Epoch 72/100\n",
      "17/17 [==============================] - 0s 28ms/step - loss: 0.6410 - accuracy: 0.7870\n",
      "Epoch 73/100\n",
      "17/17 [==============================] - 0s 29ms/step - loss: 0.6369 - accuracy: 0.7861\n",
      "Epoch 74/100\n",
      "17/17 [==============================] - 0s 29ms/step - loss: 0.6332 - accuracy: 0.7889\n",
      "Epoch 75/100\n",
      "17/17 [==============================] - 0s 29ms/step - loss: 0.6294 - accuracy: 0.7944\n",
      "Epoch 76/100\n",
      "17/17 [==============================] - 0s 29ms/step - loss: 0.6258 - accuracy: 0.7972\n",
      "Epoch 77/100\n",
      "17/17 [==============================] - 0s 28ms/step - loss: 0.6224 - accuracy: 0.8000\n",
      "Epoch 78/100\n",
      "17/17 [==============================] - 1s 30ms/step - loss: 0.6189 - accuracy: 0.8019\n",
      "Epoch 79/100\n",
      "17/17 [==============================] - 0s 28ms/step - loss: 0.6153 - accuracy: 0.8028\n",
      "Epoch 80/100\n",
      "17/17 [==============================] - 0s 29ms/step - loss: 0.6120 - accuracy: 0.8028\n",
      "Epoch 81/100\n",
      "17/17 [==============================] - 0s 28ms/step - loss: 0.6085 - accuracy: 0.8074\n",
      "Epoch 82/100\n",
      "17/17 [==============================] - 0s 29ms/step - loss: 0.6052 - accuracy: 0.8102\n",
      "Epoch 83/100\n",
      "17/17 [==============================] - 0s 28ms/step - loss: 0.6021 - accuracy: 0.8102\n",
      "Epoch 84/100\n",
      "17/17 [==============================] - 0s 29ms/step - loss: 0.5990 - accuracy: 0.8102\n",
      "Epoch 85/100\n",
      "17/17 [==============================] - 0s 29ms/step - loss: 0.5959 - accuracy: 0.8102\n",
      "Epoch 86/100\n",
      "17/17 [==============================] - 0s 28ms/step - loss: 0.5929 - accuracy: 0.8139\n",
      "Epoch 87/100\n",
      "17/17 [==============================] - 0s 29ms/step - loss: 0.5898 - accuracy: 0.8157\n",
      "Epoch 88/100\n",
      "17/17 [==============================] - 0s 28ms/step - loss: 0.5872 - accuracy: 0.8157\n",
      "Epoch 89/100\n",
      "17/17 [==============================] - 1s 31ms/step - loss: 0.5842 - accuracy: 0.8167\n",
      "Epoch 90/100\n",
      "17/17 [==============================] - 0s 28ms/step - loss: 0.5813 - accuracy: 0.8167\n",
      "Epoch 91/100\n",
      "17/17 [==============================] - 0s 29ms/step - loss: 0.5785 - accuracy: 0.8185\n",
      "Epoch 92/100\n",
      "17/17 [==============================] - 0s 28ms/step - loss: 0.5755 - accuracy: 0.8176\n",
      "Epoch 93/100\n",
      "17/17 [==============================] - 0s 29ms/step - loss: 0.5728 - accuracy: 0.8176\n",
      "Epoch 94/100\n",
      "17/17 [==============================] - 0s 28ms/step - loss: 0.5701 - accuracy: 0.8185\n",
      "Epoch 95/100\n",
      "17/17 [==============================] - 0s 29ms/step - loss: 0.5673 - accuracy: 0.8185\n",
      "Epoch 96/100\n",
      "17/17 [==============================] - 0s 29ms/step - loss: 0.5647 - accuracy: 0.8185\n",
      "Epoch 97/100\n",
      "17/17 [==============================] - 0s 29ms/step - loss: 0.5622 - accuracy: 0.8194\n",
      "Epoch 98/100\n",
      "17/17 [==============================] - 0s 28ms/step - loss: 0.5595 - accuracy: 0.8194\n",
      "Epoch 99/100\n",
      "17/17 [==============================] - 1s 30ms/step - loss: 0.5571 - accuracy: 0.8222\n",
      "Epoch 100/100\n",
      "17/17 [==============================] - 0s 29ms/step - loss: 0.5544 - accuracy: 0.8231\n"
     ]
    }
   ],
   "source": [
    "dataset=tf.data.Dataset.zip(X_train_norm,Y_train_one)\n",
    "mini_bactches=dataset.batch(64)\n",
    "print(mini_bactches.cardinality())\n",
    "history=conv_model.fit(mini_bactches,epochs=100)"
   ]
  }
 ],
 "metadata": {
  "kernelspec": {
   "display_name": "Python 3",
   "language": "python",
   "name": "python3"
  },
  "language_info": {
   "codemirror_mode": {
    "name": "ipython",
    "version": 3
   },
   "file_extension": ".py",
   "mimetype": "text/x-python",
   "name": "python",
   "nbconvert_exporter": "python",
   "pygments_lexer": "ipython3",
   "version": "3.11.1"
  },
  "orig_nbformat": 4
 },
 "nbformat": 4,
 "nbformat_minor": 2
}
